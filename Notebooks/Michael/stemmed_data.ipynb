{
 "cells": [
  {
   "cell_type": "code",
   "execution_count": null,
   "metadata": {},
   "outputs": [],
   "source": []
  },
  {
   "cell_type": "markdown",
   "metadata": {},
   "source": [
    "# Project Title"
   ]
  },
  {
   "cell_type": "markdown",
   "metadata": {},
   "source": [
    "## Overview\n",
    "\n",
    "A one-paragraph overview of the project, including the business problem, data, methods, results and recommendations.\n",
    "\n",
    "## Business Problem\n",
    "\n",
    "Summary of the business problem you are trying to solve, and the data questions that you plan to answer to solve them.\n",
    "\n",
    "Questions to consider:\n",
    "\n",
    "- Who are your stakeholders?\n",
    "- What are your stakeholders' pain points related to this project?\n",
    "- Why are your predictions important from a business perspective?\n",
    "- What exactly is your deliverable: your analysis, or the model itself?\n",
    "- Does your business understanding/stakeholder require a specific type of model?\n",
    "    - For example: a highly regulated industry would require a very transparent/simple/interpretable model, whereas a situation where the model itself is your deliverable would likely benefit from a more complex and thus stronger model\n",
    "   \n",
    "\n",
    "Additional questions to consider for classification:\n",
    "\n",
    "- What does a false positive look like in this context?\n",
    "- What does a false negative look like in this context?\n",
    "- Which is worse for your stakeholder?\n",
    "- What metric are you focusing on optimizing, given the answers to the above questions?"
   ]
  },
  {
   "cell_type": "markdown",
   "metadata": {},
   "source": [
    "## Data Understanding\n",
    "\n",
    "Describe the data being used for this project.\n",
    "\n",
    "Questions to consider:\n",
    "\n",
    "- Where did the data come from, and how do they relate to the data analysis questions?\n",
    "- What do the data represent? Who is in the sample and what variables are included?\n",
    "- What is the target variable?\n",
    "- What are the properties of the variables you intend to use?"
   ]
  },
  {
   "cell_type": "code",
   "execution_count": 2,
   "metadata": {},
   "outputs": [],
   "source": [
    "# Standard Imports\n",
    "\n",
    "import pandas as pd\n",
    "import numpy as np\n",
    "import matplotlib.pyplot as plt"
   ]
  },
  {
   "cell_type": "code",
   "execution_count": 3,
   "metadata": {},
   "outputs": [],
   "source": [
    "# NLP imports\n",
    "\n",
    "import nltk\n",
    "from nltk.probability import FreqDist\n",
    "from nltk.corpus import stopwords\n",
    "from nltk.tokenize import regexp_tokenize, word_tokenize, RegexpTokenizer, TweetTokenizer\n",
    "import string\n",
    "import re"
   ]
  },
  {
   "cell_type": "code",
   "execution_count": 4,
   "metadata": {},
   "outputs": [],
   "source": [
    "# Modeling imports\n",
    "from sklearn.model_selection import train_test_split\n",
    "from sklearn.naive_bayes import MultinomialNB\n",
    "from sklearn.feature_extraction.text import TfidfVectorizer, CountVectorizer"
   ]
  },
  {
   "cell_type": "code",
   "execution_count": 5,
   "metadata": {},
   "outputs": [],
   "source": [
    "# Utility import\n",
    "\n",
    "from util import evaluate_model"
   ]
  },
  {
   "cell_type": "code",
   "execution_count": 6,
   "metadata": {},
   "outputs": [
    {
     "name": "stderr",
     "output_type": "stream",
     "text": [
      "[nltk_data] Downloading package stopwords to /Users/mac/nltk_data...\n",
      "[nltk_data]   Package stopwords is already up-to-date!\n"
     ]
    },
    {
     "data": {
      "text/plain": [
       "True"
      ]
     },
     "execution_count": 6,
     "metadata": {},
     "output_type": "execute_result"
    }
   ],
   "source": [
    "# Download stopwords\n",
    "\n",
    "nltk.download(\"stopwords\")"
   ]
  },
  {
   "cell_type": "code",
   "execution_count": 7,
   "metadata": {},
   "outputs": [],
   "source": [
    "# Set Pandas options\n",
    "pd.set_option('display.max_colwidth', None)"
   ]
  },
  {
   "cell_type": "code",
   "execution_count": 8,
   "metadata": {},
   "outputs": [],
   "source": [
    "# Import data\n",
    "\n",
    "tweet_df = pd.read_csv('./../../Data/judge-1377884607_tweet_product_company.csv', encoding = 'unicode_escape')"
   ]
  },
  {
   "cell_type": "code",
   "execution_count": 9,
   "metadata": {},
   "outputs": [],
   "source": [
    "# Change column names to something more readable\n",
    "\n",
    "tweet_df.columns = ['tweet', 'product/company', 'emotion']"
   ]
  },
  {
   "cell_type": "code",
   "execution_count": 10,
   "metadata": {},
   "outputs": [
    {
     "data": {
      "text/html": [
       "<div>\n",
       "<style scoped>\n",
       "    .dataframe tbody tr th:only-of-type {\n",
       "        vertical-align: middle;\n",
       "    }\n",
       "\n",
       "    .dataframe tbody tr th {\n",
       "        vertical-align: top;\n",
       "    }\n",
       "\n",
       "    .dataframe thead th {\n",
       "        text-align: right;\n",
       "    }\n",
       "</style>\n",
       "<table border=\"1\" class=\"dataframe\">\n",
       "  <thead>\n",
       "    <tr style=\"text-align: right;\">\n",
       "      <th></th>\n",
       "      <th>tweet</th>\n",
       "      <th>product/company</th>\n",
       "      <th>emotion</th>\n",
       "    </tr>\n",
       "  </thead>\n",
       "  <tbody>\n",
       "    <tr>\n",
       "      <th>0</th>\n",
       "      <td>.@wesley83 I have a 3G iPhone. After 3 hrs tweeting at #RISE_Austin, it was dead!  I need to upgrade. Plugin stations at #SXSW.</td>\n",
       "      <td>iPhone</td>\n",
       "      <td>Negative emotion</td>\n",
       "    </tr>\n",
       "    <tr>\n",
       "      <th>1</th>\n",
       "      <td>@jessedee Know about @fludapp ? Awesome iPad/iPhone app that you'll likely appreciate for its design. Also, they're giving free Ts at #SXSW</td>\n",
       "      <td>iPad or iPhone App</td>\n",
       "      <td>Positive emotion</td>\n",
       "    </tr>\n",
       "    <tr>\n",
       "      <th>2</th>\n",
       "      <td>@swonderlin Can not wait for #iPad 2 also. They should sale them down at #SXSW.</td>\n",
       "      <td>iPad</td>\n",
       "      <td>Positive emotion</td>\n",
       "    </tr>\n",
       "    <tr>\n",
       "      <th>3</th>\n",
       "      <td>@sxsw I hope this year's festival isn't as crashy as this year's iPhone app. #sxsw</td>\n",
       "      <td>iPad or iPhone App</td>\n",
       "      <td>Negative emotion</td>\n",
       "    </tr>\n",
       "    <tr>\n",
       "      <th>4</th>\n",
       "      <td>@sxtxstate great stuff on Fri #SXSW: Marissa Mayer (Google), Tim O'Reilly (tech books/conferences) &amp;amp; Matt Mullenweg (Wordpress)</td>\n",
       "      <td>Google</td>\n",
       "      <td>Positive emotion</td>\n",
       "    </tr>\n",
       "  </tbody>\n",
       "</table>\n",
       "</div>"
      ],
      "text/plain": [
       "                                                                                                                                         tweet  \\\n",
       "0              .@wesley83 I have a 3G iPhone. After 3 hrs tweeting at #RISE_Austin, it was dead!  I need to upgrade. Plugin stations at #SXSW.   \n",
       "1  @jessedee Know about @fludapp ? Awesome iPad/iPhone app that you'll likely appreciate for its design. Also, they're giving free Ts at #SXSW   \n",
       "2                                                              @swonderlin Can not wait for #iPad 2 also. They should sale them down at #SXSW.   \n",
       "3                                                           @sxsw I hope this year's festival isn't as crashy as this year's iPhone app. #sxsw   \n",
       "4          @sxtxstate great stuff on Fri #SXSW: Marissa Mayer (Google), Tim O'Reilly (tech books/conferences) &amp; Matt Mullenweg (Wordpress)   \n",
       "\n",
       "      product/company           emotion  \n",
       "0              iPhone  Negative emotion  \n",
       "1  iPad or iPhone App  Positive emotion  \n",
       "2                iPad  Positive emotion  \n",
       "3  iPad or iPhone App  Negative emotion  \n",
       "4              Google  Positive emotion  "
      ]
     },
     "execution_count": 10,
     "metadata": {},
     "output_type": "execute_result"
    }
   ],
   "source": [
    "tweet_df.head(5)"
   ]
  },
  {
   "cell_type": "code",
   "execution_count": 11,
   "metadata": {},
   "outputs": [
    {
     "data": {
      "text/plain": [
       "No emotion toward brand or product    0.592654\n",
       "Positive emotion                      0.327505\n",
       "Negative emotion                      0.062686\n",
       "I can't tell                          0.017156\n",
       "Name: emotion, dtype: float64"
      ]
     },
     "execution_count": 11,
     "metadata": {},
     "output_type": "execute_result"
    }
   ],
   "source": [
    "# Explore distribution of target variable. 60% are netural, 33% are positive, and only 6% are negative\n",
    "\n",
    "tweet_df['emotion'].value_counts(normalize = True)"
   ]
  },
  {
   "cell_type": "code",
   "execution_count": 12,
   "metadata": {},
   "outputs": [
    {
     "data": {
      "text/plain": [
       "tweet                 1\n",
       "product/company    5802\n",
       "emotion               0\n",
       "dtype: int64"
      ]
     },
     "execution_count": 12,
     "metadata": {},
     "output_type": "execute_result"
    }
   ],
   "source": [
    "# Explore nulls in tweets. There is one blank tweet.\n",
    "\n",
    "tweet_df.isna().sum()"
   ]
  },
  {
   "cell_type": "code",
   "execution_count": 13,
   "metadata": {},
   "outputs": [
    {
     "data": {
      "text/plain": [
       "27"
      ]
     },
     "execution_count": 13,
     "metadata": {},
     "output_type": "execute_result"
    }
   ],
   "source": [
    "# Check for duplicates\n",
    "# There are 27 duplicate tweets\n",
    "\n",
    "tweet_df.duplicated('tweet').sum()"
   ]
  },
  {
   "cell_type": "code",
   "execution_count": 14,
   "metadata": {
    "scrolled": true
   },
   "outputs": [
    {
     "data": {
      "text/plain": [
       "No emotion toward brand or product    5298\n",
       "Positive emotion                       306\n",
       "I can't tell                           147\n",
       "Negative emotion                        51\n",
       "Name: emotion, dtype: int64"
      ]
     },
     "execution_count": 14,
     "metadata": {},
     "output_type": "execute_result"
    }
   ],
   "source": [
    "# Explore nulls for where product / company is null\n",
    "# Most of the nulls for product / company are neutral\n",
    "\n",
    "no_brand = tweet_df[tweet_df['product/company'].isna()]\n",
    "\n",
    "no_brand['emotion'].value_counts()"
   ]
  },
  {
   "cell_type": "code",
   "execution_count": 15,
   "metadata": {},
   "outputs": [
    {
     "data": {
      "text/plain": [
       "0.9423076923076923"
      ]
     },
     "execution_count": 15,
     "metadata": {},
     "output_type": "execute_result"
    }
   ],
   "source": [
    "# Almost all of the \"can't tell\" emotions do not have a product associated with them.\n",
    "# Plan is to drop these rows unless we can fill in some of the values with Text Blob\n",
    "\n",
    "cant_tell = tweet_df[tweet_df['emotion'] == \"I can't tell\"]\n",
    "\n",
    "cant_tell['product/company'].isna().sum() / cant_tell.shape[0]"
   ]
  },
  {
   "cell_type": "code",
   "execution_count": 16,
   "metadata": {},
   "outputs": [
    {
     "data": {
      "text/plain": [
       "['iPad',\n",
       " 'Apple',\n",
       " 'iPad or iPhone App',\n",
       " 'Google',\n",
       " 'iPhone',\n",
       " 'Other Google product or service',\n",
       " 'Android App',\n",
       " 'Android',\n",
       " 'Other Apple product or service']"
      ]
     },
     "execution_count": 16,
     "metadata": {},
     "output_type": "execute_result"
    }
   ],
   "source": [
    "# Determine value counts of brands\n",
    "\n",
    "brand_list = list(tweet_df['product/company'].value_counts().index)\n",
    "\n",
    "brand_list"
   ]
  },
  {
   "cell_type": "markdown",
   "metadata": {},
   "source": [
    "## Data Preparation\n",
    "\n",
    "Describe and justify the process for preparing the data for analysis.\n",
    "\n",
    "Questions to consider:\n",
    "\n",
    "- Were there variables you dropped or created?\n",
    "- How did you address missing values or outliers?\n",
    "- Why are these choices appropriate given the data and the business problem?\n",
    "- Can you pipeline your preparation steps to use them consistently in the modeling process?"
   ]
  },
  {
   "cell_type": "code",
   "execution_count": 17,
   "metadata": {},
   "outputs": [],
   "source": [
    "# Drop the single null tweet\n",
    "\n",
    "df_clean = tweet_df.dropna(subset=['tweet'])"
   ]
  },
  {
   "cell_type": "code",
   "execution_count": 18,
   "metadata": {},
   "outputs": [],
   "source": [
    "# Drop the duplicate tweets\n",
    "\n",
    "df_clean = df_clean.drop_duplicates(subset='tweet')"
   ]
  },
  {
   "cell_type": "code",
   "execution_count": 19,
   "metadata": {},
   "outputs": [],
   "source": [
    "# Define function to fill in missing brands\n",
    "\n",
    "def fill_brand(product, tweet):\n",
    "    \n",
    "    apple_keywords = ['Apple', 'iPhone', 'iPad', 'iTunes', 'Other Apple product or service',\n",
    "                     'iPad or iPhone App', 'apple', 'iphone', 'ipad', 'itunes']\n",
    "    google_keywords = ['Google', 'google', 'Android', 'android', 'Other Google product or service',\n",
    "                      'Android App']\n",
    "    \n",
    "    apple_mentions = 0\n",
    "    google_mentions = 0\n",
    "    \n",
    "    for word in tweet.split(' '):\n",
    "        if word.translate(str.maketrans('', '', string.punctuation)).lower() in apple_keywords:\n",
    "            apple_mentions += 1\n",
    "        elif word.translate(str.maketrans('', '', string.punctuation)).lower() in google_keywords:\n",
    "            google_mentions += 1\n",
    "    \n",
    "    if product in apple_keywords:\n",
    "        brand = 'Apple'\n",
    "    elif product in google_keywords:\n",
    "        brand = 'Google'\n",
    "    elif (apple_mentions > 0) & (not google_mentions):\n",
    "        brand = 'Apple'\n",
    "    elif (not apple_mentions) & (google_mentions > 0):\n",
    "        brand = 'Google'\n",
    "    elif (apple_mentions > 0) & (google_mentions > 0):\n",
    "        brand = 'Both'\n",
    "    else:\n",
    "        brand = 'Unknown'\n",
    "    \n",
    "    return brand"
   ]
  },
  {
   "cell_type": "code",
   "execution_count": 20,
   "metadata": {},
   "outputs": [],
   "source": [
    "# Apply the function to the new brand column\n",
    "\n",
    "df_clean['brand'] = df_clean.apply(lambda row: fill_brand(row['product/company'], row['tweet']), axis=1)"
   ]
  },
  {
   "cell_type": "code",
   "execution_count": 21,
   "metadata": {},
   "outputs": [
    {
     "data": {
      "text/plain": [
       "Apple      5266\n",
       "Google     2572\n",
       "Unknown    1076\n",
       "Both        151\n",
       "Name: brand, dtype: int64"
      ]
     },
     "execution_count": 21,
     "metadata": {},
     "output_type": "execute_result"
    }
   ],
   "source": [
    "# Display value counts for the brands\n",
    "\n",
    "df_clean['brand'].value_counts()"
   ]
  },
  {
   "cell_type": "code",
   "execution_count": 22,
   "metadata": {},
   "outputs": [
    {
     "data": {
      "text/html": [
       "<div>\n",
       "<style scoped>\n",
       "    .dataframe tbody tr th:only-of-type {\n",
       "        vertical-align: middle;\n",
       "    }\n",
       "\n",
       "    .dataframe tbody tr th {\n",
       "        vertical-align: top;\n",
       "    }\n",
       "\n",
       "    .dataframe thead th {\n",
       "        text-align: right;\n",
       "    }\n",
       "</style>\n",
       "<table border=\"1\" class=\"dataframe\">\n",
       "  <thead>\n",
       "    <tr style=\"text-align: right;\">\n",
       "      <th></th>\n",
       "      <th>tweet</th>\n",
       "      <th>product/company</th>\n",
       "      <th>emotion</th>\n",
       "      <th>brand</th>\n",
       "    </tr>\n",
       "  </thead>\n",
       "  <tbody>\n",
       "    <tr>\n",
       "      <th>0</th>\n",
       "      <td>.@wesley83 I have a 3G iPhone. After 3 hrs tweeting at #RISE_Austin, it was dead!  I need to upgrade. Plugin stations at #SXSW.</td>\n",
       "      <td>iPhone</td>\n",
       "      <td>Negative emotion</td>\n",
       "      <td>Apple</td>\n",
       "    </tr>\n",
       "    <tr>\n",
       "      <th>1</th>\n",
       "      <td>@jessedee Know about @fludapp ? Awesome iPad/iPhone app that you'll likely appreciate for its design. Also, they're giving free Ts at #SXSW</td>\n",
       "      <td>iPad or iPhone App</td>\n",
       "      <td>Positive emotion</td>\n",
       "      <td>Apple</td>\n",
       "    </tr>\n",
       "    <tr>\n",
       "      <th>2</th>\n",
       "      <td>@swonderlin Can not wait for #iPad 2 also. They should sale them down at #SXSW.</td>\n",
       "      <td>iPad</td>\n",
       "      <td>Positive emotion</td>\n",
       "      <td>Apple</td>\n",
       "    </tr>\n",
       "    <tr>\n",
       "      <th>3</th>\n",
       "      <td>@sxsw I hope this year's festival isn't as crashy as this year's iPhone app. #sxsw</td>\n",
       "      <td>iPad or iPhone App</td>\n",
       "      <td>Negative emotion</td>\n",
       "      <td>Apple</td>\n",
       "    </tr>\n",
       "    <tr>\n",
       "      <th>4</th>\n",
       "      <td>@sxtxstate great stuff on Fri #SXSW: Marissa Mayer (Google), Tim O'Reilly (tech books/conferences) &amp;amp; Matt Mullenweg (Wordpress)</td>\n",
       "      <td>Google</td>\n",
       "      <td>Positive emotion</td>\n",
       "      <td>Google</td>\n",
       "    </tr>\n",
       "  </tbody>\n",
       "</table>\n",
       "</div>"
      ],
      "text/plain": [
       "                                                                                                                                         tweet  \\\n",
       "0              .@wesley83 I have a 3G iPhone. After 3 hrs tweeting at #RISE_Austin, it was dead!  I need to upgrade. Plugin stations at #SXSW.   \n",
       "1  @jessedee Know about @fludapp ? Awesome iPad/iPhone app that you'll likely appreciate for its design. Also, they're giving free Ts at #SXSW   \n",
       "2                                                              @swonderlin Can not wait for #iPad 2 also. They should sale them down at #SXSW.   \n",
       "3                                                           @sxsw I hope this year's festival isn't as crashy as this year's iPhone app. #sxsw   \n",
       "4          @sxtxstate great stuff on Fri #SXSW: Marissa Mayer (Google), Tim O'Reilly (tech books/conferences) &amp; Matt Mullenweg (Wordpress)   \n",
       "\n",
       "      product/company           emotion   brand  \n",
       "0              iPhone  Negative emotion   Apple  \n",
       "1  iPad or iPhone App  Positive emotion   Apple  \n",
       "2                iPad  Positive emotion   Apple  \n",
       "3  iPad or iPhone App  Negative emotion   Apple  \n",
       "4              Google  Positive emotion  Google  "
      ]
     },
     "execution_count": 22,
     "metadata": {},
     "output_type": "execute_result"
    }
   ],
   "source": [
    "df_clean.head()"
   ]
  },
  {
   "cell_type": "markdown",
   "metadata": {},
   "source": [
    "### The following cells will add a \"clean tweets\" column with some basic cleaning steps\n",
    "\n",
    "- Remove URLs\n",
    "- TBD"
   ]
  },
  {
   "cell_type": "code",
   "execution_count": 23,
   "metadata": {},
   "outputs": [],
   "source": [
    "df_clean['clean_tweet'] = df_clean['tweet']"
   ]
  },
  {
   "cell_type": "code",
   "execution_count": 24,
   "metadata": {},
   "outputs": [],
   "source": [
    "# Remove hyperlinks\n",
    "df_clean['clean_tweet'] = df_clean['clean_tweet'].apply(lambda x: re.sub(r'(http://[^\"\\s]+)|(@\\w+)', '', x))\n",
    "df_clean['clean_tweet'] = df_clean['clean_tweet'].apply(lambda x: re.sub(r'(https://[^\"\\s]+)|(@\\w+)', '', x))\n",
    "df_clean['clean_tweet'] = df_clean['clean_tweet'].apply(lambda x: re.sub(r\"www\\.[a-z]?\\.?(com)+|[a-z]+\\.(com)\", '', x))\n",
    "\n",
    "# Remove {link} and [video] references\n",
    "df_clean['clean_tweet'] = df_clean['clean_tweet'].apply(lambda x: re.sub(r'{link}', '', x))\n",
    "df_clean['clean_tweet'] = df_clean['clean_tweet'].apply(lambda x: re.sub(r'\\[video\\]', '', x))\n",
    "\n",
    "# Replace these characters (which appear in place of an apostrophe)\n",
    "df_clean['clean_tweet'] = df_clean['clean_tweet'].apply(lambda x: x.replace('Ûª', \"'\"))\n",
    "\n",
    "# Remove hastag but keep the words\n",
    "df_clean['clean_tweet'] = df_clean['clean_tweet'].apply(lambda x: re.sub(r'#', '', x))\n",
    "\n",
    "# Remove @ handles but keep the mentions\n",
    "df_clean['clean_tweet'] = df_clean['clean_tweet'].apply(lambda x: re.sub(r'@', '', x))"
   ]
  },
  {
   "cell_type": "code",
   "execution_count": 25,
   "metadata": {},
   "outputs": [
    {
     "data": {
      "text/html": [
       "<div>\n",
       "<style scoped>\n",
       "    .dataframe tbody tr th:only-of-type {\n",
       "        vertical-align: middle;\n",
       "    }\n",
       "\n",
       "    .dataframe tbody tr th {\n",
       "        vertical-align: top;\n",
       "    }\n",
       "\n",
       "    .dataframe thead th {\n",
       "        text-align: right;\n",
       "    }\n",
       "</style>\n",
       "<table border=\"1\" class=\"dataframe\">\n",
       "  <thead>\n",
       "    <tr style=\"text-align: right;\">\n",
       "      <th></th>\n",
       "      <th>tweet</th>\n",
       "      <th>product/company</th>\n",
       "      <th>emotion</th>\n",
       "      <th>brand</th>\n",
       "      <th>clean_tweet</th>\n",
       "    </tr>\n",
       "  </thead>\n",
       "  <tbody>\n",
       "    <tr>\n",
       "      <th>0</th>\n",
       "      <td>.@wesley83 I have a 3G iPhone. After 3 hrs tweeting at #RISE_Austin, it was dead!  I need to upgrade. Plugin stations at #SXSW.</td>\n",
       "      <td>iPhone</td>\n",
       "      <td>Negative emotion</td>\n",
       "      <td>Apple</td>\n",
       "      <td>. I have a 3G iPhone. After 3 hrs tweeting at RISE_Austin, it was dead!  I need to upgrade. Plugin stations at SXSW.</td>\n",
       "    </tr>\n",
       "    <tr>\n",
       "      <th>1</th>\n",
       "      <td>@jessedee Know about @fludapp ? Awesome iPad/iPhone app that you'll likely appreciate for its design. Also, they're giving free Ts at #SXSW</td>\n",
       "      <td>iPad or iPhone App</td>\n",
       "      <td>Positive emotion</td>\n",
       "      <td>Apple</td>\n",
       "      <td>Know about  ? Awesome iPad/iPhone app that you'll likely appreciate for its design. Also, they're giving free Ts at SXSW</td>\n",
       "    </tr>\n",
       "    <tr>\n",
       "      <th>2</th>\n",
       "      <td>@swonderlin Can not wait for #iPad 2 also. They should sale them down at #SXSW.</td>\n",
       "      <td>iPad</td>\n",
       "      <td>Positive emotion</td>\n",
       "      <td>Apple</td>\n",
       "      <td>Can not wait for iPad 2 also. They should sale them down at SXSW.</td>\n",
       "    </tr>\n",
       "    <tr>\n",
       "      <th>3</th>\n",
       "      <td>@sxsw I hope this year's festival isn't as crashy as this year's iPhone app. #sxsw</td>\n",
       "      <td>iPad or iPhone App</td>\n",
       "      <td>Negative emotion</td>\n",
       "      <td>Apple</td>\n",
       "      <td>I hope this year's festival isn't as crashy as this year's iPhone app. sxsw</td>\n",
       "    </tr>\n",
       "    <tr>\n",
       "      <th>4</th>\n",
       "      <td>@sxtxstate great stuff on Fri #SXSW: Marissa Mayer (Google), Tim O'Reilly (tech books/conferences) &amp;amp; Matt Mullenweg (Wordpress)</td>\n",
       "      <td>Google</td>\n",
       "      <td>Positive emotion</td>\n",
       "      <td>Google</td>\n",
       "      <td>great stuff on Fri SXSW: Marissa Mayer (Google), Tim O'Reilly (tech books/conferences) &amp;amp; Matt Mullenweg (Wordpress)</td>\n",
       "    </tr>\n",
       "  </tbody>\n",
       "</table>\n",
       "</div>"
      ],
      "text/plain": [
       "                                                                                                                                         tweet  \\\n",
       "0              .@wesley83 I have a 3G iPhone. After 3 hrs tweeting at #RISE_Austin, it was dead!  I need to upgrade. Plugin stations at #SXSW.   \n",
       "1  @jessedee Know about @fludapp ? Awesome iPad/iPhone app that you'll likely appreciate for its design. Also, they're giving free Ts at #SXSW   \n",
       "2                                                              @swonderlin Can not wait for #iPad 2 also. They should sale them down at #SXSW.   \n",
       "3                                                           @sxsw I hope this year's festival isn't as crashy as this year's iPhone app. #sxsw   \n",
       "4          @sxtxstate great stuff on Fri #SXSW: Marissa Mayer (Google), Tim O'Reilly (tech books/conferences) &amp; Matt Mullenweg (Wordpress)   \n",
       "\n",
       "      product/company           emotion   brand  \\\n",
       "0              iPhone  Negative emotion   Apple   \n",
       "1  iPad or iPhone App  Positive emotion   Apple   \n",
       "2                iPad  Positive emotion   Apple   \n",
       "3  iPad or iPhone App  Negative emotion   Apple   \n",
       "4              Google  Positive emotion  Google   \n",
       "\n",
       "                                                                                                                 clean_tweet  \n",
       "0       . I have a 3G iPhone. After 3 hrs tweeting at RISE_Austin, it was dead!  I need to upgrade. Plugin stations at SXSW.  \n",
       "1   Know about  ? Awesome iPad/iPhone app that you'll likely appreciate for its design. Also, they're giving free Ts at SXSW  \n",
       "2                                                          Can not wait for iPad 2 also. They should sale them down at SXSW.  \n",
       "3                                                I hope this year's festival isn't as crashy as this year's iPhone app. sxsw  \n",
       "4    great stuff on Fri SXSW: Marissa Mayer (Google), Tim O'Reilly (tech books/conferences) &amp; Matt Mullenweg (Wordpress)  "
      ]
     },
     "execution_count": 25,
     "metadata": {},
     "output_type": "execute_result"
    }
   ],
   "source": [
    "df_clean.head()"
   ]
  },
  {
   "cell_type": "code",
   "execution_count": 26,
   "metadata": {},
   "outputs": [],
   "source": [
    "# Do a count vectorizer to check for weird symbols that should be removed\n",
    "\n",
    "ct_vectorizer = CountVectorizer()\n",
    "ct_vectorizer.fit(df_clean['clean_tweet'])\n",
    "clean_tweet_vec = ct_vectorizer.transform(df_clean['clean_tweet'])\n",
    "\n",
    "ct_vect_df = pd.DataFrame(clean_tweet_vec.toarray(),\n",
    "                          columns=ct_vectorizer.get_feature_names())\n",
    "\n",
    "ct_vect_cols = list(ct_vect_df.columns)\n",
    "\n",
    "# ct_vect_cols[-64:]"
   ]
  },
  {
   "cell_type": "code",
   "execution_count": 27,
   "metadata": {},
   "outputs": [],
   "source": [
    "# Define function to remove symbols that appear at the bottom of the count vectorizer\n",
    "\n",
    "def remove_symbols(text):\n",
    "    symbols_to_remove = ['ª¼', 'ªè', '¼¼', '¾û', 'á¾_î¾ð', 'áî', 'â_', 'ââ', 'âã', 'ã_', 'ä_', 'ä___ü', 'äá',\n",
    "                         'å_', 'åç', 'åè', 'çü', 'èï', 'ìù', 'ïà', 'ïî', 'ïö', 'ð_', 'ðü', 'öý', 'ù_¾', 'û_',\n",
    "                         'û_a', 'û_', 'û¼', 'û', 'ûï', 'ûò', 'ü_', 'ÛÏ', 'Û']\n",
    "    \n",
    "    clean_text = text\n",
    "    \n",
    "    for symbol in symbols_to_remove:\n",
    "        clean_text = clean_text.replace(symbol, '')\n",
    "    \n",
    "    return clean_text"
   ]
  },
  {
   "cell_type": "code",
   "execution_count": 28,
   "metadata": {},
   "outputs": [],
   "source": [
    "# Remove symbols\n",
    "\n",
    "df_clean['clean_tweet'] = df_clean['clean_tweet'].apply(lambda x: remove_symbols(x))"
   ]
  },
  {
   "cell_type": "code",
   "execution_count": 29,
   "metadata": {},
   "outputs": [],
   "source": [
    "# Define function to remove stop words and punctuation\n",
    "\n",
    "def remove_stop(text):\n",
    "    \n",
    "    # Instantiate a tweet tokenizer\n",
    "    tweet_tokenizer = TweetTokenizer(preserve_case=False, reduce_len=False, strip_handles=False)\n",
    "    \n",
    "    clean_text = text\n",
    "    \n",
    "    # Tokenize the sweets\n",
    "    tweet_token = tweet_tokenizer.tokenize(clean_text)\n",
    "    \n",
    "    # Remove stop words and punctuation\n",
    "    stop_words = stopwords.words('english')\n",
    "    stop_words += list(string.punctuation)\n",
    "    stop_words += ['SXSW', 'sxsw']\n",
    "    \n",
    "    stop_tweet_token = [word for word in tweet_token if word not in stop_words]\n",
    "    stop_tweet_token = [word.lower() for word in stop_tweet_token]\n",
    "    \n",
    "    clean_text = \" \".join(stop_tweet_token)\n",
    "    \n",
    "    return clean_text"
   ]
  },
  {
   "cell_type": "code",
   "execution_count": 30,
   "metadata": {},
   "outputs": [],
   "source": [
    "# Remove symbols\n",
    "\n",
    "df_clean['clean_tweet'] = df_clean['clean_tweet'].apply(lambda x: remove_stop(x))"
   ]
  },
  {
   "cell_type": "code",
   "execution_count": 31,
   "metadata": {},
   "outputs": [
    {
     "data": {
      "text/html": [
       "<div>\n",
       "<style scoped>\n",
       "    .dataframe tbody tr th:only-of-type {\n",
       "        vertical-align: middle;\n",
       "    }\n",
       "\n",
       "    .dataframe tbody tr th {\n",
       "        vertical-align: top;\n",
       "    }\n",
       "\n",
       "    .dataframe thead th {\n",
       "        text-align: right;\n",
       "    }\n",
       "</style>\n",
       "<table border=\"1\" class=\"dataframe\">\n",
       "  <thead>\n",
       "    <tr style=\"text-align: right;\">\n",
       "      <th></th>\n",
       "      <th>tweet</th>\n",
       "      <th>product/company</th>\n",
       "      <th>emotion</th>\n",
       "      <th>brand</th>\n",
       "      <th>clean_tweet</th>\n",
       "    </tr>\n",
       "  </thead>\n",
       "  <tbody>\n",
       "    <tr>\n",
       "      <th>0</th>\n",
       "      <td>.@wesley83 I have a 3G iPhone. After 3 hrs tweeting at #RISE_Austin, it was dead!  I need to upgrade. Plugin stations at #SXSW.</td>\n",
       "      <td>iPhone</td>\n",
       "      <td>Negative emotion</td>\n",
       "      <td>Apple</td>\n",
       "      <td>3g iphone 3 hrs tweeting rise_austin dead need upgrade plugin stations</td>\n",
       "    </tr>\n",
       "    <tr>\n",
       "      <th>1</th>\n",
       "      <td>@jessedee Know about @fludapp ? Awesome iPad/iPhone app that you'll likely appreciate for its design. Also, they're giving free Ts at #SXSW</td>\n",
       "      <td>iPad or iPhone App</td>\n",
       "      <td>Positive emotion</td>\n",
       "      <td>Apple</td>\n",
       "      <td>know awesome ipad iphone app likely appreciate design also they're giving free ts</td>\n",
       "    </tr>\n",
       "    <tr>\n",
       "      <th>2</th>\n",
       "      <td>@swonderlin Can not wait for #iPad 2 also. They should sale them down at #SXSW.</td>\n",
       "      <td>iPad</td>\n",
       "      <td>Positive emotion</td>\n",
       "      <td>Apple</td>\n",
       "      <td>wait ipad 2 also sale</td>\n",
       "    </tr>\n",
       "    <tr>\n",
       "      <th>3</th>\n",
       "      <td>@sxsw I hope this year's festival isn't as crashy as this year's iPhone app. #sxsw</td>\n",
       "      <td>iPad or iPhone App</td>\n",
       "      <td>Negative emotion</td>\n",
       "      <td>Apple</td>\n",
       "      <td>hope year's festival crashy year's iphone app</td>\n",
       "    </tr>\n",
       "    <tr>\n",
       "      <th>4</th>\n",
       "      <td>@sxtxstate great stuff on Fri #SXSW: Marissa Mayer (Google), Tim O'Reilly (tech books/conferences) &amp;amp; Matt Mullenweg (Wordpress)</td>\n",
       "      <td>Google</td>\n",
       "      <td>Positive emotion</td>\n",
       "      <td>Google</td>\n",
       "      <td>great stuff fri marissa mayer google tim o'reilly tech books conferences matt mullenweg wordpress</td>\n",
       "    </tr>\n",
       "  </tbody>\n",
       "</table>\n",
       "</div>"
      ],
      "text/plain": [
       "                                                                                                                                         tweet  \\\n",
       "0              .@wesley83 I have a 3G iPhone. After 3 hrs tweeting at #RISE_Austin, it was dead!  I need to upgrade. Plugin stations at #SXSW.   \n",
       "1  @jessedee Know about @fludapp ? Awesome iPad/iPhone app that you'll likely appreciate for its design. Also, they're giving free Ts at #SXSW   \n",
       "2                                                              @swonderlin Can not wait for #iPad 2 also. They should sale them down at #SXSW.   \n",
       "3                                                           @sxsw I hope this year's festival isn't as crashy as this year's iPhone app. #sxsw   \n",
       "4          @sxtxstate great stuff on Fri #SXSW: Marissa Mayer (Google), Tim O'Reilly (tech books/conferences) &amp; Matt Mullenweg (Wordpress)   \n",
       "\n",
       "      product/company           emotion   brand  \\\n",
       "0              iPhone  Negative emotion   Apple   \n",
       "1  iPad or iPhone App  Positive emotion   Apple   \n",
       "2                iPad  Positive emotion   Apple   \n",
       "3  iPad or iPhone App  Negative emotion   Apple   \n",
       "4              Google  Positive emotion  Google   \n",
       "\n",
       "                                                                                         clean_tweet  \n",
       "0                             3g iphone 3 hrs tweeting rise_austin dead need upgrade plugin stations  \n",
       "1                  know awesome ipad iphone app likely appreciate design also they're giving free ts  \n",
       "2                                                                              wait ipad 2 also sale  \n",
       "3                                                      hope year's festival crashy year's iphone app  \n",
       "4  great stuff fri marissa mayer google tim o'reilly tech books conferences matt mullenweg wordpress  "
      ]
     },
     "execution_count": 31,
     "metadata": {},
     "output_type": "execute_result"
    }
   ],
   "source": [
    "df_clean.head()"
   ]
  },
  {
   "cell_type": "code",
   "execution_count": 32,
   "metadata": {},
   "outputs": [],
   "source": [
    "# Create a sentiment target and map it\n",
    "\n",
    "target_map = {'Positive emotion': 1,\n",
    "              'No emotion toward brand or product': 0,\n",
    "              'Negative emotion': 0,\n",
    "              \"I can't tell\": 0}\n",
    "\n",
    "# Map it\n",
    "df_clean['sentiment'] = df_clean['emotion'].map(target_map)"
   ]
  },
  {
   "cell_type": "code",
   "execution_count": 33,
   "metadata": {},
   "outputs": [
    {
     "data": {
      "text/html": [
       "<div>\n",
       "<style scoped>\n",
       "    .dataframe tbody tr th:only-of-type {\n",
       "        vertical-align: middle;\n",
       "    }\n",
       "\n",
       "    .dataframe tbody tr th {\n",
       "        vertical-align: top;\n",
       "    }\n",
       "\n",
       "    .dataframe thead th {\n",
       "        text-align: right;\n",
       "    }\n",
       "</style>\n",
       "<table border=\"1\" class=\"dataframe\">\n",
       "  <thead>\n",
       "    <tr style=\"text-align: right;\">\n",
       "      <th></th>\n",
       "      <th>tweet</th>\n",
       "      <th>product/company</th>\n",
       "      <th>emotion</th>\n",
       "      <th>brand</th>\n",
       "      <th>clean_tweet</th>\n",
       "      <th>sentiment</th>\n",
       "    </tr>\n",
       "  </thead>\n",
       "  <tbody>\n",
       "    <tr>\n",
       "      <th>0</th>\n",
       "      <td>.@wesley83 I have a 3G iPhone. After 3 hrs tweeting at #RISE_Austin, it was dead!  I need to upgrade. Plugin stations at #SXSW.</td>\n",
       "      <td>iPhone</td>\n",
       "      <td>Negative emotion</td>\n",
       "      <td>Apple</td>\n",
       "      <td>3g iphone 3 hrs tweeting rise_austin dead need upgrade plugin stations</td>\n",
       "      <td>0</td>\n",
       "    </tr>\n",
       "    <tr>\n",
       "      <th>1</th>\n",
       "      <td>@jessedee Know about @fludapp ? Awesome iPad/iPhone app that you'll likely appreciate for its design. Also, they're giving free Ts at #SXSW</td>\n",
       "      <td>iPad or iPhone App</td>\n",
       "      <td>Positive emotion</td>\n",
       "      <td>Apple</td>\n",
       "      <td>know awesome ipad iphone app likely appreciate design also they're giving free ts</td>\n",
       "      <td>1</td>\n",
       "    </tr>\n",
       "    <tr>\n",
       "      <th>2</th>\n",
       "      <td>@swonderlin Can not wait for #iPad 2 also. They should sale them down at #SXSW.</td>\n",
       "      <td>iPad</td>\n",
       "      <td>Positive emotion</td>\n",
       "      <td>Apple</td>\n",
       "      <td>wait ipad 2 also sale</td>\n",
       "      <td>1</td>\n",
       "    </tr>\n",
       "    <tr>\n",
       "      <th>3</th>\n",
       "      <td>@sxsw I hope this year's festival isn't as crashy as this year's iPhone app. #sxsw</td>\n",
       "      <td>iPad or iPhone App</td>\n",
       "      <td>Negative emotion</td>\n",
       "      <td>Apple</td>\n",
       "      <td>hope year's festival crashy year's iphone app</td>\n",
       "      <td>0</td>\n",
       "    </tr>\n",
       "    <tr>\n",
       "      <th>4</th>\n",
       "      <td>@sxtxstate great stuff on Fri #SXSW: Marissa Mayer (Google), Tim O'Reilly (tech books/conferences) &amp;amp; Matt Mullenweg (Wordpress)</td>\n",
       "      <td>Google</td>\n",
       "      <td>Positive emotion</td>\n",
       "      <td>Google</td>\n",
       "      <td>great stuff fri marissa mayer google tim o'reilly tech books conferences matt mullenweg wordpress</td>\n",
       "      <td>1</td>\n",
       "    </tr>\n",
       "  </tbody>\n",
       "</table>\n",
       "</div>"
      ],
      "text/plain": [
       "                                                                                                                                         tweet  \\\n",
       "0              .@wesley83 I have a 3G iPhone. After 3 hrs tweeting at #RISE_Austin, it was dead!  I need to upgrade. Plugin stations at #SXSW.   \n",
       "1  @jessedee Know about @fludapp ? Awesome iPad/iPhone app that you'll likely appreciate for its design. Also, they're giving free Ts at #SXSW   \n",
       "2                                                              @swonderlin Can not wait for #iPad 2 also. They should sale them down at #SXSW.   \n",
       "3                                                           @sxsw I hope this year's festival isn't as crashy as this year's iPhone app. #sxsw   \n",
       "4          @sxtxstate great stuff on Fri #SXSW: Marissa Mayer (Google), Tim O'Reilly (tech books/conferences) &amp; Matt Mullenweg (Wordpress)   \n",
       "\n",
       "      product/company           emotion   brand  \\\n",
       "0              iPhone  Negative emotion   Apple   \n",
       "1  iPad or iPhone App  Positive emotion   Apple   \n",
       "2                iPad  Positive emotion   Apple   \n",
       "3  iPad or iPhone App  Negative emotion   Apple   \n",
       "4              Google  Positive emotion  Google   \n",
       "\n",
       "                                                                                         clean_tweet  \\\n",
       "0                             3g iphone 3 hrs tweeting rise_austin dead need upgrade plugin stations   \n",
       "1                  know awesome ipad iphone app likely appreciate design also they're giving free ts   \n",
       "2                                                                              wait ipad 2 also sale   \n",
       "3                                                      hope year's festival crashy year's iphone app   \n",
       "4  great stuff fri marissa mayer google tim o'reilly tech books conferences matt mullenweg wordpress   \n",
       "\n",
       "   sentiment  \n",
       "0          0  \n",
       "1          1  \n",
       "2          1  \n",
       "3          0  \n",
       "4          1  "
      ]
     },
     "execution_count": 33,
     "metadata": {},
     "output_type": "execute_result"
    }
   ],
   "source": [
    "df_clean.head()"
   ]
  },
  {
   "cell_type": "markdown",
   "metadata": {},
   "source": [
    "## Data Exploration\n",
    "\n",
    "- Data exploration on the clean dataset"
   ]
  },
  {
   "cell_type": "code",
   "execution_count": 34,
   "metadata": {},
   "outputs": [],
   "source": [
    "#TBD"
   ]
  },
  {
   "cell_type": "markdown",
   "metadata": {},
   "source": [
    "## Modeling\n",
    "\n",
    "Describe and justify the process for analyzing or modeling the data.\n",
    "\n",
    "Questions to consider:\n",
    "\n",
    "- How will you analyze the data to arrive at an initial approach?\n",
    "- How will you iterate on your initial approach to make it better?\n",
    "- What model type is most appropriate, given the data and the business problem?"
   ]
  },
  {
   "cell_type": "code",
   "execution_count": 35,
   "metadata": {},
   "outputs": [],
   "source": [
    "# First model is simple multinomial naive bayes\n",
    "\n",
    "# Define our X and y\n",
    "X = df_clean['clean_tweet']\n",
    "y = df_clean['sentiment']\n",
    "\n",
    "# Split\n",
    "X_train, X_test, y_train, y_test = train_test_split(X, y, test_size=0.25, random_state=42)"
   ]
  },
  {
   "cell_type": "code",
   "execution_count": 36,
   "metadata": {},
   "outputs": [],
   "source": [
    "vectorizer = CountVectorizer()  "
   ]
  },
  {
   "cell_type": "code",
   "execution_count": 37,
   "metadata": {
    "scrolled": true
   },
   "outputs": [],
   "source": [
    "vectorizer.fit(X_train)\n",
    "\n",
    "X_train_vec = vectorizer.transform(X_train)\n",
    "X_test_vec = vectorizer.transform(X_test)"
   ]
  },
  {
   "cell_type": "code",
   "execution_count": 38,
   "metadata": {},
   "outputs": [],
   "source": [
    "# clf = MultinomialNB()\n",
    "\n",
    "# clf.fit(X_train_vec, y_train)\n",
    "\n",
    "# clf.score(X_test_vec, y_test)"
   ]
  },
  {
   "cell_type": "code",
   "execution_count": 39,
   "metadata": {
    "scrolled": true
   },
   "outputs": [],
   "source": [
    "# acc, prec, recall, f1 = evaluate_model(clf, X_test_vec, y_test, plot_cf = True)"
   ]
  },
  {
   "cell_type": "markdown",
   "metadata": {},
   "source": [
    "## Evaluation\n",
    "\n",
    "The evaluation of each model should accompany the creation of each model, and you should be sure to evaluate your models consistently.\n",
    "\n",
    "Evaluate how well your work solves the stated business problem. \n",
    "\n",
    "Questions to consider:\n",
    "\n",
    "- How do you interpret the results?\n",
    "- How well does your model fit your data? How much better is this than your baseline model? Is it over or under fit?\n",
    "- How well does your model/data fit any relevant modeling assumptions?\n",
    "\n",
    "For the final model, you might also consider:\n",
    "\n",
    "- How confident are you that your results would generalize beyond the data you have?\n",
    "- How confident are you that this model would benefit the business if put into use?\n",
    "- What does this final model tell you about the relationship between your inputs and outputs?"
   ]
  },
  {
   "cell_type": "markdown",
   "metadata": {},
   "source": [
    "### Baseline Understanding\n",
    "\n",
    "- What does a baseline, model-less prediction look like?"
   ]
  },
  {
   "cell_type": "code",
   "execution_count": 40,
   "metadata": {},
   "outputs": [],
   "source": [
    "# code here to arrive at a baseline prediction"
   ]
  },
  {
   "cell_type": "markdown",
   "metadata": {},
   "source": [
    "### First $&(@# Model\n",
    "\n",
    "Before going too far down the data preparation rabbit hole, be sure to check your work against a first 'substandard' model! What is the easiest way for you to find out how hard your problem is?"
   ]
  },
  {
   "cell_type": "code",
   "execution_count": 41,
   "metadata": {},
   "outputs": [],
   "source": [
    "# code here for your first 'substandard' model"
   ]
  },
  {
   "cell_type": "code",
   "execution_count": 42,
   "metadata": {},
   "outputs": [],
   "source": [
    "# code here to evaluate your first 'substandard' model"
   ]
  },
  {
   "cell_type": "markdown",
   "metadata": {},
   "source": [
    "### Modeling Iterations\n",
    "\n",
    "Now you can start to use the results of your first model to iterate - there are many options!"
   ]
  },
  {
   "cell_type": "code",
   "execution_count": 43,
   "metadata": {},
   "outputs": [],
   "source": [
    "from nltk.stem.snowball import SnowballStemmer"
   ]
  },
  {
   "cell_type": "code",
   "execution_count": 44,
   "metadata": {},
   "outputs": [],
   "source": [
    "stemmer = SnowballStemmer(language=\"english\")\n",
    "\n",
    "def stem_and_tokenize(document):\n",
    "    tokenizer = TweetTokenizer()\n",
    "    tokens = tokenizer.tokenize(document)\n",
    "    stemed_text = [stemmer.stem(token) for token in tokens]\n",
    "    clean_text = \" \".join(stemed_text)    \n",
    "    return clean_text"
   ]
  },
  {
   "cell_type": "code",
   "execution_count": 45,
   "metadata": {},
   "outputs": [],
   "source": [
    "df_clean['clean_tweet'] = df_clean['clean_tweet'].apply(lambda x: stem_and_tokenize(x))"
   ]
  },
  {
   "cell_type": "code",
   "execution_count": 47,
   "metadata": {},
   "outputs": [],
   "source": [
    "# Other models \n",
    "# Define our X and y\n",
    "X = df_clean['clean_tweet']\n",
    "y = df_clean['sentiment']\n",
    "\n",
    "# Split\n",
    "X_train, X_test, y_train, y_test = train_test_split(X, y, test_size=0.25, random_state=42)"
   ]
  },
  {
   "cell_type": "code",
   "execution_count": 48,
   "metadata": {},
   "outputs": [],
   "source": [
    "# code here to iteratively improve your models"
   ]
  },
  {
   "cell_type": "code",
   "execution_count": 49,
   "metadata": {},
   "outputs": [],
   "source": [
    "from sklearn.svm import SVC\n",
    "from sklearn.linear_model import LogisticRegression, SGDClassifier\n",
    "from sklearn.ensemble import RandomForestClassifier\n",
    "from sklearn.model_selection import StratifiedKFold"
   ]
  },
  {
   "cell_type": "code",
   "execution_count": 50,
   "metadata": {
    "scrolled": true
   },
   "outputs": [
    {
     "data": {
      "text/plain": [
       "0.7534186149095721"
      ]
     },
     "execution_count": 50,
     "metadata": {},
     "output_type": "execute_result"
    }
   ],
   "source": [
    "# svm models\n",
    "vectorizer_svm = TfidfVectorizer()  \n",
    "vectorizer_svm.fit(X_train)\n",
    "X_train_vec_svm = vectorizer_svm.transform(X_train)\n",
    "X_test_vec_svm = vectorizer_svm.transform(X_test)\n",
    "\n",
    "clf_svm = SVC()\n",
    "clf_svm.fit(X_train_vec_svm, y_train)\n",
    "clf_svm.score(X_test_vec_svm, y_test)"
   ]
  },
  {
   "cell_type": "code",
   "execution_count": 51,
   "metadata": {
    "scrolled": false
   },
   "outputs": [
    {
     "name": "stdout",
     "output_type": "stream",
     "text": [
      "Accuracy: 0.7534\n",
      "Precision: 0.7459\n",
      "Recall: 0.7534\n",
      "F1 Score: 0.7283\n",
      "ROC: 0.7739\n"
     ]
    },
    {
     "data": {
      "image/png": "[encoded data removed]",
      "text/plain": [
       "<Figure size 432x288 with 2 Axes>"
      ]
     },
     "metadata": {
      "needs_background": "light"
     },
     "output_type": "display_data"
    }
   ],
   "source": [
    "svm_tf = evaluate_model(clf_svm, X_test_vec_svm, y_test, plot_cf = True)"
   ]
  },
  {
   "cell_type": "code",
   "execution_count": 52,
   "metadata": {},
   "outputs": [
    {
     "data": {
      "text/plain": [
       "0.7534186149095721"
      ]
     },
     "execution_count": 52,
     "metadata": {},
     "output_type": "execute_result"
    }
   ],
   "source": [
    "cv_vectorizer_svm = CountVectorizer()  \n",
    "cv_vectorizer_svm.fit(X_train)\n",
    "cv_X_train_vec_svm = cv_vectorizer_svm.transform(X_train)\n",
    "cv_X_test_vec_svm = cv_vectorizer_svm.transform(X_test)\n",
    "\n",
    "clf_svm_2 = SVC()\n",
    "clf_svm_2.fit(cv_X_train_vec_svm, y_train)\n",
    "clf_svm_2.score(cv_X_test_vec_svm, y_test)"
   ]
  },
  {
   "cell_type": "code",
   "execution_count": 53,
   "metadata": {
    "scrolled": true
   },
   "outputs": [
    {
     "name": "stdout",
     "output_type": "stream",
     "text": [
      "Accuracy: 0.7534\n",
      "Precision: 0.7510\n",
      "Recall: 0.7534\n",
      "F1 Score: 0.7226\n",
      "ROC: 0.7813\n"
     ]
    },
    {
     "data": {
      "image/png": "[encoded data removed]",
      "text/plain": [
       "<Figure size 432x288 with 2 Axes>"
      ]
     },
     "metadata": {
      "needs_background": "light"
     },
     "output_type": "display_data"
    }
   ],
   "source": [
    "svm_ct = evaluate_model(clf_svm_2, cv_X_test_vec_svm, y_test, plot_cf = True)"
   ]
  },
  {
   "cell_type": "code",
   "execution_count": 54,
   "metadata": {},
   "outputs": [],
   "source": [
    "# Sgd classifier \n",
    "# vectorizer_sgd = TfidfVectorizer()  \n",
    "# vectorizer_sgd.fit(X_train)\n",
    "# X_train_vec_sgd = vectorizer_sgd.transform(X_train)\n",
    "# X_test_vec_sgd = vectorizer_sgd.transform(X_test)\n",
    "\n",
    "# clf_sgd = SGDClassifier()\n",
    "# clf_sgd.fit(X_train_vec_sgd, y_train)\n",
    "# clf_sgd.score(X_test_vec_sgd, y_test)"
   ]
  },
  {
   "cell_type": "code",
   "execution_count": 55,
   "metadata": {},
   "outputs": [],
   "source": [
    "# results_tf_sgd = evaluate_model(clf_sgd, X_test_vec_sgd, y_test, plot_cf = True)"
   ]
  },
  {
   "cell_type": "code",
   "execution_count": 56,
   "metadata": {},
   "outputs": [],
   "source": [
    "# cv_vectorizer_sgd = CountVectorizer()  \n",
    "# cv_vectorizer_sgd.fit(X_train)\n",
    "# cv_X_train_vec_sgd = cv_vectorizer_sgd.transform(X_train)\n",
    "# cv_X_test_vec_sgd = cv_vectorizer_sgd.transform(X_test)\n",
    "\n",
    "# clf_sgd_2 = SGDClassifier()\n",
    "# clf_sgd_2.fit(cv_X_train_vec_sgd, y_train)\n",
    "# clf_sgd_2.score(cv_X_test_vec_sgd, y_test)"
   ]
  },
  {
   "cell_type": "code",
   "execution_count": 57,
   "metadata": {
    "scrolled": true
   },
   "outputs": [],
   "source": [
    "# results_cf_sgd  = evaluate_model(clf_sgd_2, cv_X_test_vec_sgd, y_test, plot_cf = True)"
   ]
  },
  {
   "cell_type": "code",
   "execution_count": 58,
   "metadata": {},
   "outputs": [
    {
     "data": {
      "text/plain": [
       "0.7212174680194089"
      ]
     },
     "execution_count": 58,
     "metadata": {},
     "output_type": "execute_result"
    }
   ],
   "source": [
    "vectorizer_bayes = TfidfVectorizer()  \n",
    "vectorizer_bayes.fit(X_train)\n",
    "X_train_vec_bayes = vectorizer_bayes.transform(X_train)\n",
    "X_test_vec_bayes = vectorizer_bayes.transform(X_test)\n",
    "\n",
    "clf_bayes = MultinomialNB()\n",
    "clf_bayes.fit(X_train_vec_bayes, y_train)\n",
    "clf_bayes.score(X_test_vec_bayes, y_test)"
   ]
  },
  {
   "cell_type": "code",
   "execution_count": 59,
   "metadata": {},
   "outputs": [
    {
     "name": "stdout",
     "output_type": "stream",
     "text": [
      "Accuracy: 0.7212\n",
      "Precision: 0.7256\n",
      "Recall: 0.7212\n",
      "F1 Score: 0.6606\n",
      "ROC: nan\n"
     ]
    },
    {
     "data": {
      "image/png": "[encoded data removed]",
      "text/plain": [
       "<Figure size 432x288 with 2 Axes>"
      ]
     },
     "metadata": {
      "needs_background": "light"
     },
     "output_type": "display_data"
    }
   ],
   "source": [
    "bayes_tf  = evaluate_model(clf_bayes, X_test_vec_bayes, y_test, plot_cf = True)"
   ]
  },
  {
   "cell_type": "code",
   "execution_count": 60,
   "metadata": {},
   "outputs": [
    {
     "data": {
      "text/plain": [
       "0.7075430083811204"
      ]
     },
     "execution_count": 60,
     "metadata": {},
     "output_type": "execute_result"
    }
   ],
   "source": [
    "cv_vectorizer_bayes = CountVectorizer()  \n",
    "cv_vectorizer_bayes.fit(X_train)\n",
    "cv_X_train_vec_bayes = cv_vectorizer_bayes.transform(X_train)\n",
    "cv_X_test_vec_bayes = cv_vectorizer_bayes.transform(X_test)\n",
    "\n",
    "clf_sgd_bayes = MultinomialNB()\n",
    "clf_sgd_bayes.fit(cv_X_train_vec_bayes, y_train)\n",
    "clf_sgd_bayes.score(cv_X_test_vec_bayes, y_test)"
   ]
  },
  {
   "cell_type": "code",
   "execution_count": 61,
   "metadata": {},
   "outputs": [
    {
     "name": "stdout",
     "output_type": "stream",
     "text": [
      "Accuracy: 0.7075\n",
      "Precision: 0.6997\n",
      "Recall: 0.7075\n",
      "F1 Score: 0.7027\n",
      "ROC: nan\n"
     ]
    },
    {
     "data": {
      "image/png": "[encoded data removed]",
      "text/plain": [
       "<Figure size 432x288 with 2 Axes>"
      ]
     },
     "metadata": {
      "needs_background": "light"
     },
     "output_type": "display_data"
    }
   ],
   "source": [
    "bayes_ct  = evaluate_model(clf_sgd_bayes, cv_X_test_vec_bayes, y_test, plot_cf = True)"
   ]
  },
  {
   "cell_type": "code",
   "execution_count": 62,
   "metadata": {},
   "outputs": [
    {
     "data": {
      "text/plain": [
       "0.7362152624614028"
      ]
     },
     "execution_count": 62,
     "metadata": {},
     "output_type": "execute_result"
    }
   ],
   "source": [
    "# Random forest \n",
    "vectorizer_forest = TfidfVectorizer()  \n",
    "vectorizer_forest.fit(X_train)\n",
    "X_train_vec_forest = vectorizer_forest.transform(X_train)\n",
    "X_test_vec_forest = vectorizer_forest.transform(X_test)\n",
    "\n",
    "clf_forest = RandomForestClassifier()\n",
    "clf_forest.fit(X_train_vec_forest, y_train)\n",
    "clf_forest.score(X_test_vec_forest, y_test)"
   ]
  },
  {
   "cell_type": "code",
   "execution_count": 63,
   "metadata": {},
   "outputs": [
    {
     "name": "stdout",
     "output_type": "stream",
     "text": [
      "Accuracy: 0.7362\n",
      "Precision: 0.7216\n",
      "Recall: 0.7362\n",
      "F1 Score: 0.7155\n",
      "ROC: nan\n"
     ]
    },
    {
     "data": {
      "image/png": "[encoded data removed]",
      "text/plain": [
       "<Figure size 432x288 with 2 Axes>"
      ]
     },
     "metadata": {
      "needs_background": "light"
     },
     "output_type": "display_data"
    }
   ],
   "source": [
    "rf_tf = evaluate_model(clf_forest, X_test_vec_forest, y_test, plot_cf = True)"
   ]
  },
  {
   "cell_type": "code",
   "execution_count": 64,
   "metadata": {},
   "outputs": [
    {
     "data": {
      "text/plain": [
       "0.7366563740626378"
      ]
     },
     "execution_count": 64,
     "metadata": {},
     "output_type": "execute_result"
    }
   ],
   "source": [
    "cv_vectorizer_forest = CountVectorizer()  \n",
    "cv_vectorizer_forest.fit(X_train)\n",
    "cv_X_train_vec_forest = cv_vectorizer_forest.transform(X_train)\n",
    "cv_X_test_vec_forest = cv_vectorizer_forest.transform(X_test)\n",
    "\n",
    "clf_forest_2 = RandomForestClassifier()\n",
    "clf_forest_2.fit(cv_X_train_vec_forest, y_train)\n",
    "clf_forest_2.score(cv_X_test_vec_forest, y_test)"
   ]
  },
  {
   "cell_type": "code",
   "execution_count": 65,
   "metadata": {},
   "outputs": [
    {
     "name": "stdout",
     "output_type": "stream",
     "text": [
      "Accuracy: 0.7367\n",
      "Precision: 0.7222\n",
      "Recall: 0.7367\n",
      "F1 Score: 0.7181\n",
      "ROC: nan\n"
     ]
    },
    {
     "data": {
      "image/png": "[encoded data removed]",
      "text/plain": [
       "<Figure size 432x288 with 2 Axes>"
      ]
     },
     "metadata": {
      "needs_background": "light"
     },
     "output_type": "display_data"
    }
   ],
   "source": [
    "rf_ct = evaluate_model(clf_forest_2, cv_X_test_vec_forest, y_test, plot_cf = True)"
   ]
  },
  {
   "cell_type": "code",
   "execution_count": 66,
   "metadata": {},
   "outputs": [
    {
     "data": {
      "text/plain": [
       "0.7441552712836348"
      ]
     },
     "execution_count": 66,
     "metadata": {},
     "output_type": "execute_result"
    }
   ],
   "source": [
    "# Logistic regression\n",
    "vectorizer_log = TfidfVectorizer()  \n",
    "vectorizer_log.fit(X_train)\n",
    "X_train_vec_log = vectorizer_log.transform(X_train)\n",
    "X_test_vec_log = vectorizer_log.transform(X_test)\n",
    "\n",
    "clf_log = LogisticRegression()\n",
    "clf_log.fit(X_train_vec_log, y_train)\n",
    "clf_log.score(X_test_vec_log, y_test)"
   ]
  },
  {
   "cell_type": "code",
   "execution_count": 67,
   "metadata": {},
   "outputs": [
    {
     "name": "stdout",
     "output_type": "stream",
     "text": [
      "Accuracy: 0.7442\n",
      "Precision: 0.7365\n",
      "Recall: 0.7442\n",
      "F1 Score: 0.7133\n",
      "ROC: 0.7584\n"
     ]
    },
    {
     "data": {
      "image/png": "[encoded data removed]",
      "text/plain": [
       "<Figure size 432x288 with 2 Axes>"
      ]
     },
     "metadata": {
      "needs_background": "light"
     },
     "output_type": "display_data"
    }
   ],
   "source": [
    "log_reg_tf = evaluate_model(clf_log, X_test_vec_log, y_test, plot_cf = True)"
   ]
  },
  {
   "cell_type": "code",
   "execution_count": 68,
   "metadata": {},
   "outputs": [
    {
     "name": "stderr",
     "output_type": "stream",
     "text": [
      "/Users/mac/opt/anaconda3/envs/learn-env/lib/python3.8/site-packages/sklearn/linear_model/_logistic.py:762: ConvergenceWarning: lbfgs failed to converge (status=1):\n",
      "STOP: TOTAL NO. of ITERATIONS REACHED LIMIT.\n",
      "\n",
      "Increase the number of iterations (max_iter) or scale the data as shown in:\n",
      "    https://scikit-learn.org/stable/modules/preprocessing.html\n",
      "Please also refer to the documentation for alternative solver options:\n",
      "    https://scikit-learn.org/stable/modules/linear_model.html#logistic-regression\n",
      "  n_iter_i = _check_optimize_result(\n"
     ]
    },
    {
     "data": {
      "text/plain": [
       "0.7498897220996912"
      ]
     },
     "execution_count": 68,
     "metadata": {},
     "output_type": "execute_result"
    }
   ],
   "source": [
    "cv_vectorizer_log = CountVectorizer()  \n",
    "cv_vectorizer_log.fit(X_train)\n",
    "cv_X_train_vec_log = cv_vectorizer_log.transform(X_train)\n",
    "cv_X_test_vec_log = cv_vectorizer_log.transform(X_test)\n",
    "\n",
    "clf_log_2 = LogisticRegression()\n",
    "clf_log_2.fit(cv_X_train_vec_log, y_train)\n",
    "clf_log_2.score(cv_X_test_vec_log, y_test)"
   ]
  },
  {
   "cell_type": "code",
   "execution_count": 69,
   "metadata": {
    "scrolled": true
   },
   "outputs": [
    {
     "name": "stdout",
     "output_type": "stream",
     "text": [
      "Accuracy: 0.7499\n",
      "Precision: 0.7383\n",
      "Recall: 0.7499\n",
      "F1 Score: 0.7373\n",
      "ROC: 0.7573\n"
     ]
    },
    {
     "data": {
      "image/png": "[encoded data removed]",
      "text/plain": [
       "<Figure size 432x288 with 2 Axes>"
      ]
     },
     "metadata": {
      "needs_background": "light"
     },
     "output_type": "display_data"
    }
   ],
   "source": [
    "log_reg_ct = evaluate_model(clf_log_2, cv_X_test_vec_log, y_test, plot_cf = True)"
   ]
  },
  {
   "cell_type": "code",
   "execution_count": 70,
   "metadata": {},
   "outputs": [],
   "source": [
    "from xgboost import XGBClassifier"
   ]
  },
  {
   "cell_type": "code",
   "execution_count": 71,
   "metadata": {},
   "outputs": [
    {
     "data": {
      "text/plain": [
       "0.7459197176885752"
      ]
     },
     "execution_count": 71,
     "metadata": {},
     "output_type": "execute_result"
    }
   ],
   "source": [
    "vectorizer_xg = TfidfVectorizer()  \n",
    "vectorizer_xg.fit(X_train)\n",
    "X_train_vec_xg = vectorizer_xg.transform(X_train)\n",
    "X_test_vec_xg = vectorizer_xg.transform(X_test)\n",
    "\n",
    "clf_xg = XGBClassifier()\n",
    "clf_xg.fit(X_train_vec_xg, y_train)\n",
    "clf_xg.score(X_test_vec_xg, y_test)"
   ]
  },
  {
   "cell_type": "code",
   "execution_count": 72,
   "metadata": {},
   "outputs": [
    {
     "name": "stdout",
     "output_type": "stream",
     "text": [
      "Accuracy: 0.7459\n",
      "Precision: 0.7343\n",
      "Recall: 0.7459\n",
      "F1 Score: 0.7235\n",
      "ROC: nan\n"
     ]
    },
    {
     "data": {
      "image/png": "[encoded data removed]",
      "text/plain": [
       "<Figure size 432x288 with 2 Axes>"
      ]
     },
     "metadata": {
      "needs_background": "light"
     },
     "output_type": "display_data"
    }
   ],
   "source": [
    "boost_tf = evaluate_model(clf_xg, X_test_vec_xg, y_test, plot_cf = True)"
   ]
  },
  {
   "cell_type": "code",
   "execution_count": 73,
   "metadata": {},
   "outputs": [
    {
     "data": {
      "text/plain": [
       "0.7459197176885752"
      ]
     },
     "execution_count": 73,
     "metadata": {},
     "output_type": "execute_result"
    }
   ],
   "source": [
    "ct_vectorizer_xg = CountVectorizer()  \n",
    "ct_vectorizer_xg.fit(X_train)\n",
    "ct_X_train_vec_xg = vectorizer_xg.transform(X_train)\n",
    "ct_X_test_vec_xg = vectorizer_xg.transform(X_test)\n",
    "\n",
    "ct_clf_xg = XGBClassifier()\n",
    "ct_clf_xg.fit(ct_X_train_vec_xg, y_train)\n",
    "ct_clf_xg.score(ct_X_test_vec_xg, y_test)"
   ]
  },
  {
   "cell_type": "code",
   "execution_count": 74,
   "metadata": {},
   "outputs": [
    {
     "name": "stdout",
     "output_type": "stream",
     "text": [
      "Accuracy: 0.7459\n",
      "Precision: 0.7343\n",
      "Recall: 0.7459\n",
      "F1 Score: 0.7235\n",
      "ROC: nan\n"
     ]
    },
    {
     "data": {
      "image/png": "[encoded data removed]",
      "text/plain": [
       "<Figure size 432x288 with 2 Axes>"
      ]
     },
     "metadata": {
      "needs_background": "light"
     },
     "output_type": "display_data"
    }
   ],
   "source": [
    "boost_ct = evaluate_model(ct_clf_xg, ct_X_test_vec_xg, y_test, plot_cf = True)"
   ]
  },
  {
   "cell_type": "code",
   "execution_count": 75,
   "metadata": {},
   "outputs": [],
   "source": [
    "# Create dataframe to store the results\n",
    "index = ['svm_ct', 'svm_tf', 'bayes_ct', 'bayes_tf', 'rf_ct', 'rf_tf', 'log_reg_ct',\n",
    "         'log_reg_tf', 'boost_ct', 'boost_tf']\n",
    "cols = ['Accuracy', 'Precision', 'Recall', 'F1']\n",
    "df_results = pd.DataFrame(index=index, columns=cols)"
   ]
  },
  {
   "cell_type": "code",
   "execution_count": 76,
   "metadata": {
    "scrolled": true
   },
   "outputs": [],
   "source": [
    "range_index = [svm_ct, svm_tf, bayes_ct, bayes_tf, rf_ct, rf_tf, log_reg_ct,\n",
    "               log_reg_tf, boost_ct, boost_tf]\n",
    "# b = 0\n",
    "for i, x in enumerate(range_index):\n",
    "    df_results.iloc[i,:] = x \n",
    "    \n",
    "\n"
   ]
  },
  {
   "cell_type": "code",
   "execution_count": 77,
   "metadata": {
    "scrolled": false
   },
   "outputs": [
    {
     "data": {
      "text/html": [
       "<div>\n",
       "<style scoped>\n",
       "    .dataframe tbody tr th:only-of-type {\n",
       "        vertical-align: middle;\n",
       "    }\n",
       "\n",
       "    .dataframe tbody tr th {\n",
       "        vertical-align: top;\n",
       "    }\n",
       "\n",
       "    .dataframe thead th {\n",
       "        text-align: right;\n",
       "    }\n",
       "</style>\n",
       "<table border=\"1\" class=\"dataframe\">\n",
       "  <thead>\n",
       "    <tr style=\"text-align: right;\">\n",
       "      <th></th>\n",
       "      <th>Accuracy</th>\n",
       "      <th>Precision</th>\n",
       "      <th>Recall</th>\n",
       "      <th>F1</th>\n",
       "    </tr>\n",
       "  </thead>\n",
       "  <tbody>\n",
       "    <tr>\n",
       "      <th>svm_ct</th>\n",
       "      <td>0.753419</td>\n",
       "      <td>0.750985</td>\n",
       "      <td>0.753419</td>\n",
       "      <td>0.722601</td>\n",
       "    </tr>\n",
       "    <tr>\n",
       "      <th>svm_tf</th>\n",
       "      <td>0.753419</td>\n",
       "      <td>0.745917</td>\n",
       "      <td>0.753419</td>\n",
       "      <td>0.728309</td>\n",
       "    </tr>\n",
       "    <tr>\n",
       "      <th>bayes_ct</th>\n",
       "      <td>0.707543</td>\n",
       "      <td>0.699708</td>\n",
       "      <td>0.707543</td>\n",
       "      <td>0.70274</td>\n",
       "    </tr>\n",
       "    <tr>\n",
       "      <th>bayes_tf</th>\n",
       "      <td>0.721217</td>\n",
       "      <td>0.725575</td>\n",
       "      <td>0.721217</td>\n",
       "      <td>0.660569</td>\n",
       "    </tr>\n",
       "    <tr>\n",
       "      <th>rf_ct</th>\n",
       "      <td>0.736656</td>\n",
       "      <td>0.722165</td>\n",
       "      <td>0.736656</td>\n",
       "      <td>0.718115</td>\n",
       "    </tr>\n",
       "    <tr>\n",
       "      <th>rf_tf</th>\n",
       "      <td>0.736215</td>\n",
       "      <td>0.721612</td>\n",
       "      <td>0.736215</td>\n",
       "      <td>0.715508</td>\n",
       "    </tr>\n",
       "    <tr>\n",
       "      <th>log_reg_ct</th>\n",
       "      <td>0.74989</td>\n",
       "      <td>0.738318</td>\n",
       "      <td>0.74989</td>\n",
       "      <td>0.737343</td>\n",
       "    </tr>\n",
       "    <tr>\n",
       "      <th>log_reg_tf</th>\n",
       "      <td>0.744155</td>\n",
       "      <td>0.736495</td>\n",
       "      <td>0.744155</td>\n",
       "      <td>0.713345</td>\n",
       "    </tr>\n",
       "    <tr>\n",
       "      <th>boost_ct</th>\n",
       "      <td>0.74592</td>\n",
       "      <td>0.734322</td>\n",
       "      <td>0.74592</td>\n",
       "      <td>0.723487</td>\n",
       "    </tr>\n",
       "    <tr>\n",
       "      <th>boost_tf</th>\n",
       "      <td>0.74592</td>\n",
       "      <td>0.734322</td>\n",
       "      <td>0.74592</td>\n",
       "      <td>0.723487</td>\n",
       "    </tr>\n",
       "  </tbody>\n",
       "</table>\n",
       "</div>"
      ],
      "text/plain": [
       "            Accuracy Precision    Recall        F1\n",
       "svm_ct      0.753419  0.750985  0.753419  0.722601\n",
       "svm_tf      0.753419  0.745917  0.753419  0.728309\n",
       "bayes_ct    0.707543  0.699708  0.707543   0.70274\n",
       "bayes_tf    0.721217  0.725575  0.721217  0.660569\n",
       "rf_ct       0.736656  0.722165  0.736656  0.718115\n",
       "rf_tf       0.736215  0.721612  0.736215  0.715508\n",
       "log_reg_ct   0.74989  0.738318   0.74989  0.737343\n",
       "log_reg_tf  0.744155  0.736495  0.744155  0.713345\n",
       "boost_ct     0.74592  0.734322   0.74592  0.723487\n",
       "boost_tf     0.74592  0.734322   0.74592  0.723487"
      ]
     },
     "execution_count": 77,
     "metadata": {},
     "output_type": "execute_result"
    }
   ],
   "source": [
    "df_results"
   ]
  },
  {
   "cell_type": "markdown",
   "metadata": {},
   "source": [
    "### Tunining the model"
   ]
  },
  {
   "cell_type": "code",
   "execution_count": null,
   "metadata": {},
   "outputs": [],
   "source": [
    "from"
   ]
  },
  {
   "cell_type": "code",
   "execution_count": null,
   "metadata": {},
   "outputs": [],
   "source": []
  },
  {
   "cell_type": "code",
   "execution_count": 82,
   "metadata": {},
   "outputs": [
    {
     "ename": "ModuleNotFoundError",
     "evalue": "No module named 'wordcloud'",
     "output_type": "error",
     "traceback": [
      "\u001b[0;31m---------------------------------------------------------------------------\u001b[0m",
      "\u001b[0;31mModuleNotFoundError\u001b[0m                       Traceback (most recent call last)",
      "\u001b[0;32m<ipython-input-82-021e0a03a31f>\u001b[0m in \u001b[0;36m<module>\u001b[0;34m\u001b[0m\n\u001b[0;32m----> 1\u001b[0;31m \u001b[0;32mfrom\u001b[0m \u001b[0mwordcloud\u001b[0m \u001b[0;32mimport\u001b[0m \u001b[0mWordCloud\u001b[0m\u001b[0;34m\u001b[0m\u001b[0;34m\u001b[0m\u001b[0m\n\u001b[0m",
      "\u001b[0;31mModuleNotFoundError\u001b[0m: No module named 'wordcloud'"
     ]
    }
   ],
   "source": [
    "from wordcloud import WordCloud"
   ]
  },
  {
   "cell_type": "markdown",
   "metadata": {},
   "source": [
    "### 'Final' Model\n",
    "\n",
    "In the end, you'll arrive at a 'final' model - aka the one you'll use to make your recommendations/conclusions. This likely blends any group work. It might not be the one with the highest scores, but instead might be considered 'final' or 'best' for other reasons."
   ]
  },
  {
   "cell_type": "code",
   "execution_count": 79,
   "metadata": {},
   "outputs": [],
   "source": [
    "# code here to show your final model"
   ]
  },
  {
   "cell_type": "code",
   "execution_count": 80,
   "metadata": {},
   "outputs": [],
   "source": [
    "# code here to evaluate your final model"
   ]
  },
  {
   "cell_type": "code",
   "execution_count": null,
   "metadata": {},
   "outputs": [],
   "source": []
  },
  {
   "cell_type": "code",
   "execution_count": null,
   "metadata": {},
   "outputs": [],
   "source": []
  },
  {
   "cell_type": "code",
   "execution_count": null,
   "metadata": {},
   "outputs": [],
   "source": []
  },
  {
   "cell_type": "code",
   "execution_count": null,
   "metadata": {},
   "outputs": [],
   "source": []
  },
  {
   "cell_type": "markdown",
   "metadata": {},
   "source": [
    "## Conclusions\n",
    "\n",
    "Provide your conclusions about the work you've done, including any limitations or next steps.\n",
    "\n",
    "Questions to consider:\n",
    "\n",
    "- What would you recommend the business do as a result of this work?\n",
    "- How could the stakeholder use your model effectively?\n",
    "- What are some reasons why your analysis might not fully solve the business problem?\n",
    "- What else could you do in the future to improve this project (future work)?\n"
   ]
  }
 ],
 "metadata": {
  "kernelspec": {
   "display_name": "Python (learn-env)",
   "language": "python",
   "name": "learn-env"
  },
  "language_info": {
   "codemirror_mode": {
    "name": "ipython",
    "version": 3
   },
   "file_extension": ".py",
   "mimetype": "text/x-python",
   "name": "python",
   "nbconvert_exporter": "python",
   "pygments_lexer": "ipython3",
   "version": "3.8.5"
  }
 },
 "nbformat": 4,
 "nbformat_minor": 4
}
